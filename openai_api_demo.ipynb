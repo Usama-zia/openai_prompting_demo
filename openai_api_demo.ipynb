{
  "nbformat": 4,
  "nbformat_minor": 0,
  "metadata": {
    "colab": {
      "provenance": [],
      "authorship_tag": "ABX9TyPDPy+8zXz+L6XPg2fBDKl3",
      "include_colab_link": true
    },
    "kernelspec": {
      "name": "python3",
      "display_name": "Python 3"
    },
    "language_info": {
      "name": "python"
    }
  },
  "cells": [
    {
      "cell_type": "markdown",
      "metadata": {
        "id": "view-in-github",
        "colab_type": "text"
      },
      "source": [
        "<a href=\"https://colab.research.google.com/github/Usama-zia/openai_prompting_demo/blob/main/openai_api_demo.ipynb\" target=\"_parent\"><img src=\"https://colab.research.google.com/assets/colab-badge.svg\" alt=\"Open In Colab\"/></a>"
      ]
    },
    {
      "cell_type": "markdown",
      "source": [
        "##Install OpenAI API"
      ],
      "metadata": {
        "id": "7kWOKhLspFan"
      }
    },
    {
      "cell_type": "code",
      "source": [
        "!pip install -q openai\n",
        "!pip install nest_asyncio"
      ],
      "metadata": {
        "colab": {
          "base_uri": "https://localhost:8080/"
        },
        "id": "q-KTjnxupD16",
        "outputId": "2ea7e22b-c42d-4b2f-d786-a6d3682155e8"
      },
      "execution_count": null,
      "outputs": [
        {
          "output_type": "stream",
          "name": "stdout",
          "text": [
            "Requirement already satisfied: nest_asyncio in /usr/local/lib/python3.10/dist-packages (1.6.0)\n"
          ]
        }
      ]
    },
    {
      "cell_type": "code",
      "execution_count": null,
      "metadata": {
        "id": "vhQebnkdnIl4"
      },
      "outputs": [],
      "source": [
        "#please add your own API key here.\n",
        "API_KEY = \"sk-\""
      ]
    },
    {
      "cell_type": "markdown",
      "source": [
        "#### Assign a role/persona to the CHATGPT\n",
        "\n",
        "\n",
        "*   The first prompt/message  will always assign a role to the model/CHATGPT, so it has clear instructions and adopts a persona, which will help the model generate more accurate responses.\n",
        "\n"
      ],
      "metadata": {
        "id": "MlzRO5kjxSh3"
      }
    },
    {
      "cell_type": "code",
      "source": [
        "model_role_message = \"\"\" Write a poem as Mario. Mario is 28 years old and an amazing writer. His writing style is similar to the famous 21st century poet Rupi Kaur.\n",
        "Writing as Mario, write a poem for his 25 years old wife to celebrate their 5th wedding anniversary. This will be read out to friends and family at the gathering.\n",
        "\"\"\""
      ],
      "metadata": {
        "id": "lq9uYq7xqqVK"
      },
      "execution_count": null,
      "outputs": []
    },
    {
      "cell_type": "markdown",
      "source": [
        "## Method 1- using OpenAI python Package"
      ],
      "metadata": {
        "id": "hzHSWigFqcAL"
      }
    },
    {
      "cell_type": "code",
      "source": [
        "# import the OpenAI Python library for calling the OpenAI API\n",
        "import os\n",
        "import asyncio\n",
        "from openai import AsyncOpenAI\n",
        "import nest_asyncio\n",
        "nest_asyncio.apply()\n",
        "import json\n",
        "client = AsyncOpenAI(api_key=os.environ.get(\"OPENAI_API_KEY\", API_KEY))\n",
        "\n",
        "async def prompt_handler(prompt):\n",
        "  MODEL = 'gpt-4'\n",
        "  stream = await client.chat.completions.create(model=MODEL, messages=prompt,temperature=0, stream=True,)\n",
        "  async for chunk in stream:\n",
        "    print(chunk.choices[0].delta.content or \"\", end=\"\")\n"
      ],
      "metadata": {
        "id": "Qv2RV23z9mKJ"
      },
      "execution_count": null,
      "outputs": []
    },
    {
      "cell_type": "code",
      "source": [
        "assign_role_to_system = [{\"role\": \"system\", \"content\": model_role_message}]"
      ],
      "metadata": {
        "id": "D-7qDBFqw92D"
      },
      "execution_count": null,
      "outputs": []
    },
    {
      "cell_type": "code",
      "source": [
        "#This is the poem we have gotten in written to us assigning a role to the model and asking for a poem.\n",
        "loop = asyncio.get_event_loop()\n",
        "loop.run_until_complete(prompt_handler(assign_role_to_system))"
      ],
      "metadata": {
        "colab": {
          "base_uri": "https://localhost:8080/"
        },
        "id": "NM7K8umM_Q6D",
        "outputId": "a576c830-c9e9-431d-d752-fe660436b3b6"
      },
      "execution_count": null,
      "outputs": [
        {
          "output_type": "stream",
          "name": "stdout",
          "text": [
            "In the garden of our love,\n",
            "where roses bloom and doves coo,\n",
            "I found my heart's missing piece,\n",
            "a soul as pure as morning dew.\n",
            "\n",
            "Five years ago, we intertwined,\n",
            "two hearts beating in a single rhyme,\n",
            "your laughter, my favorite song,\n",
            "our love, a melody sublime.\n",
            "\n",
            "Your eyes, two galaxies of dreams,\n",
            "where I lose myself, time and again,\n",
            "your touch, a soothing balm,\n",
            "healing all my hidden pain.\n",
            "\n",
            "In your arms, I found my home,\n",
            "a sanctuary from life's storm,\n",
            "your love, my guiding star,\n",
            "in its light, I am reborn.\n",
            "\n",
            "Five years of shared sunsets,\n",
            "of moonlit dances and whispered vows,\n",
            "five years of you, my love,\n",
            "and still, it feels like now.\n",
            "\n",
            "You are the ink in my pen,\n",
            "the muse behind my every verse,\n",
            "the rhythm in my heartbeat,\n",
            "the universe in my universe.\n",
            "\n",
            "In the canvas of our love,\n",
            "you are the most vibrant hue,\n",
            "my darling, my life, my wife,\n",
            "I am, because of you.\n",
            "\n",
            "Five years of us, my love,\n",
            "a journey of joy and tears,\n",
            "a testament of our love,\n",
            "that will echo through the years.\n",
            "\n",
            "Here's to us, my darling,\n",
            "to the love that we've unfurled,\n",
            "here's to you, my universe,\n",
            "my woman, my world.\n",
            "\n",
            "So, let's raise a toast, my love,\n",
            "to the story that we write,\n",
            "to the love that binds us,\n",
            "in the soft glow of candlelight.\n",
            "\n",
            "Five years down, forever to go,\n",
            "in this dance of love and life,\n",
            "forever grateful, forever yours,\n",
            "Happy Anniversary, my beautiful wife."
          ]
        }
      ]
    },
    {
      "cell_type": "code",
      "source": [
        "user_prompt = \"\"\"Can you please write the poem as Mario but with only 5 stanzas.\"\"\"\n",
        "new_message = [{'role':'user', 'content': user_prompt}]"
      ],
      "metadata": {
        "id": "gq8Lt4lDAPRd"
      },
      "execution_count": null,
      "outputs": []
    },
    {
      "cell_type": "code",
      "source": [
        "#asyncio.run(prompt_handler(new_message))\n",
        "loop.run_until_complete(prompt_handler(new_message))"
      ],
      "metadata": {
        "colab": {
          "base_uri": "https://localhost:8080/"
        },
        "id": "RsetkrQvAyte",
        "outputId": "ae2432ae-2701-4ce0-f10f-86e20848034e"
      },
      "execution_count": null,
      "outputs": [
        {
          "output_type": "stream",
          "name": "stdout",
          "text": [
            "In the world of pixels, I leap and run,\n",
            "A plumber by trade, under the digital sun.\n",
            "With a red cap and overalls, on a quest so dire,\n",
            "To rescue a princess from Bowser's fire.\n",
            "\n",
            "Through Mushroom Kingdom, I make my way,\n",
            "Battling Goombas, keeping danger at bay.\n",
            "With fire flowers and stars, I power up,\n",
            "In this game of life, I'm a brave little pup.\n",
            "\n",
            "In haunted houses, I face my fear,\n",
            "Chasing Boo ghosts, with a heart sincere.\n",
            "Down green pipes, into the unknown,\n",
            "In this pixelated world, I've grown.\n",
            "\n",
            "I've traveled worlds, from sand to snow,\n",
            "Faced countless foes, dealt every blow.\n",
            "Yet, I press on, with a heart so steady,\n",
            "For my Princess Peach, I'll always be ready.\n",
            "\n",
            "So here I am, Mario, in a tale so grand,\n",
            "In a world of adventure, in a digital land.\n",
            "With each jump and stomp, I write my story,\n",
            "In this game of life, I seek only glory."
          ]
        }
      ]
    },
    {
      "cell_type": "markdown",
      "source": [],
      "metadata": {
        "id": "qhV0hIIWFwMr"
      }
    },
    {
      "cell_type": "markdown",
      "source": [
        "## Method 2- using OpenAI's API Endoint"
      ],
      "metadata": {
        "id": "cpdQbT5EF30J"
      }
    },
    {
      "cell_type": "code",
      "source": [
        "import requests\n",
        "\n",
        "URL = \"https://api.openai.com/v1/chat/completions\"\n",
        "\n",
        "payload = {\n",
        "\"model\": \"gpt-4\",\n",
        "\"messages\": assign_role_to_system,\n",
        "\"temperature\" : 0.0,\n",
        "\"top_p\":1.0,\n",
        "\"n\" : 1,\n",
        "\"stream\": False,\n",
        "\"presence_penalty\":0,\n",
        "\"frequency_penalty\":0,\n",
        "}\n",
        "\n",
        "headers = {\n",
        "\"Content-Type\": \"application/json\",\n",
        "\"Authorization\": f\"Bearer {API_KEY}\"\n",
        "}\n",
        "\n",
        "response = requests.post(URL, headers=headers, json=payload, stream=True)"
      ],
      "metadata": {
        "id": "sQVLgCz-MxDJ"
      },
      "execution_count": null,
      "outputs": []
    },
    {
      "cell_type": "code",
      "source": [
        "print(response.content)"
      ],
      "metadata": {
        "colab": {
          "base_uri": "https://localhost:8080/"
        },
        "id": "xMvHMsC2NTk-",
        "outputId": "d072ef1b-516e-4c1e-b827-581d505d3451"
      },
      "execution_count": null,
      "outputs": [
        {
          "output_type": "stream",
          "name": "stdout",
          "text": [
            "b'{\\n  \"id\": \"chatcmpl-8zNXaQg1bX9hcQh8YLaJ5yvAAAMeL\",\\n  \"object\": \"chat.completion\",\\n  \"created\": 1709639190,\\n  \"model\": \"gpt-4-0613\",\\n  \"choices\": [\\n    {\\n      \"index\": 0,\\n      \"message\": {\\n        \"role\": \"assistant\",\\n        \"content\": \"In the garden of our love,\\\\nwhere roses bloom and doves coo,\\\\nI found you, my sunflower,\\\\nradiant, resilient, and true.\\\\n\\\\nFive years ago, we intertwined our roots,\\\\nin the fertile soil of trust and respect,\\\\nand like a sunflower follows the sun,\\\\nI found my path in your effect.\\\\n\\\\nYour laughter, a melody,\\\\nthat dances on the wind,\\\\nyour eyes, twin galaxies,\\\\nwhere my universe begins.\\\\n\\\\nYour strength, a mountain,\\\\nthat towers in my sight,\\\\nyour love, an ocean,\\\\nendless, deep, and bright.\\\\n\\\\nFive years of sunrises,\\\\nof coffee kisses and moonlit dances,\\\\nfive years of shared dreams,\\\\nand love\\'s second, third, fourth chances.\\\\n\\\\nIn the garden of our love,\\\\nwe\\'ve weathered storms, we\\'ve grown,\\\\nand like a sunflower, my darling,\\\\nhow beautifully you\\'ve shown.\\\\n\\\\nYou are my sun, my moon,\\\\nmy morning and my night,\\\\nyou are the poetry in my soul,\\\\nmy words, my rhythm, my light.\\\\n\\\\nFive years of sunsets,\\\\nof whispered secrets and shared glances,\\\\nfive years of you, my love,\\\\nand a lifetime of more chances.\\\\n\\\\nIn the garden of our love,\\\\nwhere our story continues to unfold,\\\\nI celebrate you, my sunflower,\\\\nour love story, five years old.\\\\n\\\\nHere\\'s to us, my darling,\\\\nto the love that we\\'ve sown,\\\\nhere\\'s to the sunflower in my garden,\\\\nto the most beautiful flower ever known.\\\\n\\\\nFive years of love, of life,\\\\nof joy, of tears, of strife,\\\\nfive years of us, my darling,\\\\nas husband and wife.\\\\n\\\\nIn the garden of our love,\\\\nwhere our roots run deep and true,\\\\nI celebrate our journey,\\\\nand the sunflower that is you.\"\\n      },\\n      \"logprobs\": null,\\n      \"finish_reason\": \"stop\"\\n    }\\n  ],\\n  \"usage\": {\\n    \"prompt_tokens\": 79,\\n    \"completion_tokens\": 362,\\n    \"total_tokens\": 441\\n  },\\n  \"system_fingerprint\": null\\n}\\n'\n"
          ]
        }
      ]
    },
    {
      "cell_type": "code",
      "source": [
        "poem_json = json.loads(response.content.decode('utf-8'))"
      ],
      "metadata": {
        "id": "uOlhCm8ScidB"
      },
      "execution_count": null,
      "outputs": []
    },
    {
      "cell_type": "code",
      "source": [
        "print(poem_json['choices'][0]['message']['content'])"
      ],
      "metadata": {
        "colab": {
          "base_uri": "https://localhost:8080/"
        },
        "id": "uRP-GHBBcos7",
        "outputId": "e61f39d9-1f2c-4401-e73f-52040624216e"
      },
      "execution_count": null,
      "outputs": [
        {
          "output_type": "stream",
          "name": "stdout",
          "text": [
            "In the garden of our love,\n",
            "where roses bloom and doves coo,\n",
            "I found you, my sunflower,\n",
            "radiant, resilient, and true.\n",
            "\n",
            "Five years ago, we intertwined our roots,\n",
            "in the fertile soil of trust and respect,\n",
            "and like a sunflower follows the sun,\n",
            "I found my path in your effect.\n",
            "\n",
            "Your laughter, a melody,\n",
            "that dances on the wind,\n",
            "your eyes, twin galaxies,\n",
            "where my universe begins.\n",
            "\n",
            "Your strength, a mountain,\n",
            "that towers in my sight,\n",
            "your love, an ocean,\n",
            "endless, deep, and bright.\n",
            "\n",
            "Five years of sunrises,\n",
            "of coffee kisses and moonlit dances,\n",
            "five years of shared dreams,\n",
            "and love's second, third, fourth chances.\n",
            "\n",
            "In the garden of our love,\n",
            "we've weathered storms, we've grown,\n",
            "and like a sunflower, my darling,\n",
            "how beautifully you've shown.\n",
            "\n",
            "You are my sun, my moon,\n",
            "my morning and my night,\n",
            "you are the poetry in my soul,\n",
            "my words, my rhythm, my light.\n",
            "\n",
            "Five years of sunsets,\n",
            "of whispered secrets and shared glances,\n",
            "five years of you, my love,\n",
            "and a lifetime of more chances.\n",
            "\n",
            "In the garden of our love,\n",
            "where our story continues to unfold,\n",
            "I celebrate you, my sunflower,\n",
            "our love story, five years old.\n",
            "\n",
            "Here's to us, my darling,\n",
            "to the love that we've sown,\n",
            "here's to the sunflower in my garden,\n",
            "to the most beautiful flower ever known.\n",
            "\n",
            "Five years of love, of life,\n",
            "of joy, of tears, of strife,\n",
            "five years of us, my darling,\n",
            "as husband and wife.\n",
            "\n",
            "In the garden of our love,\n",
            "where our roots run deep and true,\n",
            "I celebrate our journey,\n",
            "and the sunflower that is you.\n"
          ]
        }
      ]
    }
  ]
}