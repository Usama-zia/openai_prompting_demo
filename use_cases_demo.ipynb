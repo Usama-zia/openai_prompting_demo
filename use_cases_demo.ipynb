{
  "nbformat": 4,
  "nbformat_minor": 0,
  "metadata": {
    "colab": {
      "provenance": [],
      "mount_file_id": "1lC17pZoNXBc53-t6_rKhsUGS_UYqBrM1",
      "authorship_tag": "ABX9TyNhijupMrsSctNz0fZSYnFW",
      "include_colab_link": true
    },
    "kernelspec": {
      "name": "python3",
      "display_name": "Python 3"
    },
    "language_info": {
      "name": "python"
    }
  },
  "cells": [
    {
      "cell_type": "markdown",
      "metadata": {
        "id": "view-in-github",
        "colab_type": "text"
      },
      "source": [
        "<a href=\"https://colab.research.google.com/github/Usama-zia/openai_prompting_demo/blob/main/use_cases_demo.ipynb\" target=\"_parent\"><img src=\"https://colab.research.google.com/assets/colab-badge.svg\" alt=\"Open In Colab\"/></a>"
      ]
    },
    {
      "cell_type": "markdown",
      "source": [
        "## Install Libraries"
      ],
      "metadata": {
        "id": "X6rjHgfw5GW-"
      }
    },
    {
      "cell_type": "code",
      "source": [
        "!pip install openai==0.28\n",
        "!pip install PyPDF2"
      ],
      "metadata": {
        "colab": {
          "base_uri": "https://localhost:8080/"
        },
        "id": "SvDEBFVP4Hgr",
        "outputId": "13a0898c-4e64-4ced-e536-9f0f25bd647f"
      },
      "execution_count": 1,
      "outputs": [
        {
          "output_type": "stream",
          "name": "stdout",
          "text": [
            "Collecting openai==0.28\n",
            "  Downloading openai-0.28.0-py3-none-any.whl (76 kB)\n",
            "\u001b[?25l     \u001b[90m━━━━━━━━━━━━━━━━━━━━━━━━━━━━━━━━━━━━━━━━\u001b[0m \u001b[32m0.0/76.5 kB\u001b[0m \u001b[31m?\u001b[0m eta \u001b[36m-:--:--\u001b[0m\r\u001b[2K     \u001b[90m━━━━━━━━━━━━━━━━━━━━━━━━━━━━━━━━━━━━━━━━\u001b[0m \u001b[32m76.5/76.5 kB\u001b[0m \u001b[31m2.2 MB/s\u001b[0m eta \u001b[36m0:00:00\u001b[0m\n",
            "\u001b[?25hRequirement already satisfied: requests>=2.20 in /usr/local/lib/python3.10/dist-packages (from openai==0.28) (2.31.0)\n",
            "Requirement already satisfied: tqdm in /usr/local/lib/python3.10/dist-packages (from openai==0.28) (4.66.2)\n",
            "Requirement already satisfied: aiohttp in /usr/local/lib/python3.10/dist-packages (from openai==0.28) (3.9.3)\n",
            "Requirement already satisfied: charset-normalizer<4,>=2 in /usr/local/lib/python3.10/dist-packages (from requests>=2.20->openai==0.28) (3.3.2)\n",
            "Requirement already satisfied: idna<4,>=2.5 in /usr/local/lib/python3.10/dist-packages (from requests>=2.20->openai==0.28) (3.6)\n",
            "Requirement already satisfied: urllib3<3,>=1.21.1 in /usr/local/lib/python3.10/dist-packages (from requests>=2.20->openai==0.28) (2.0.7)\n",
            "Requirement already satisfied: certifi>=2017.4.17 in /usr/local/lib/python3.10/dist-packages (from requests>=2.20->openai==0.28) (2024.2.2)\n",
            "Requirement already satisfied: aiosignal>=1.1.2 in /usr/local/lib/python3.10/dist-packages (from aiohttp->openai==0.28) (1.3.1)\n",
            "Requirement already satisfied: attrs>=17.3.0 in /usr/local/lib/python3.10/dist-packages (from aiohttp->openai==0.28) (23.2.0)\n",
            "Requirement already satisfied: frozenlist>=1.1.1 in /usr/local/lib/python3.10/dist-packages (from aiohttp->openai==0.28) (1.4.1)\n",
            "Requirement already satisfied: multidict<7.0,>=4.5 in /usr/local/lib/python3.10/dist-packages (from aiohttp->openai==0.28) (6.0.5)\n",
            "Requirement already satisfied: yarl<2.0,>=1.0 in /usr/local/lib/python3.10/dist-packages (from aiohttp->openai==0.28) (1.9.4)\n",
            "Requirement already satisfied: async-timeout<5.0,>=4.0 in /usr/local/lib/python3.10/dist-packages (from aiohttp->openai==0.28) (4.0.3)\n",
            "Installing collected packages: openai\n",
            "Successfully installed openai-0.28.0\n",
            "Collecting PyPDF2\n",
            "  Downloading pypdf2-3.0.1-py3-none-any.whl (232 kB)\n",
            "\u001b[2K     \u001b[90m━━━━━━━━━━━━━━━━━━━━━━━━━━━━━━━━━━━━━━━━\u001b[0m \u001b[32m232.6/232.6 kB\u001b[0m \u001b[31m2.3 MB/s\u001b[0m eta \u001b[36m0:00:00\u001b[0m\n",
            "\u001b[?25hInstalling collected packages: PyPDF2\n",
            "Successfully installed PyPDF2-3.0.1\n"
          ]
        }
      ]
    },
    {
      "cell_type": "markdown",
      "source": [
        "## Prep the Environment"
      ],
      "metadata": {
        "id": "1Niem7Os6lHz"
      }
    },
    {
      "cell_type": "code",
      "source": [
        "# import libraries\n",
        "import PyPDF2\n",
        "import re\n",
        "import os\n",
        "import openai\n",
        "import spacy\n",
        "import nltk\n",
        "import re\n",
        "from nltk import pos_tag\n",
        "from nltk.tokenize import word_tokenize\n",
        "nltk.download('punkt')\n",
        "nltk.download('averaged_perceptron_tagger')"
      ],
      "metadata": {
        "colab": {
          "base_uri": "https://localhost:8080/"
        },
        "id": "jA6VSdclpfVD",
        "outputId": "9c89a019-6a00-4101-fdab-a1b08a823312"
      },
      "execution_count": 2,
      "outputs": [
        {
          "output_type": "stream",
          "name": "stderr",
          "text": [
            "[nltk_data] Downloading package punkt to /root/nltk_data...\n",
            "[nltk_data]   Unzipping tokenizers/punkt.zip.\n",
            "[nltk_data] Downloading package averaged_perceptron_tagger to\n",
            "[nltk_data]     /root/nltk_data...\n",
            "[nltk_data]   Unzipping taggers/averaged_perceptron_tagger.zip.\n"
          ]
        },
        {
          "output_type": "execute_result",
          "data": {
            "text/plain": [
              "True"
            ]
          },
          "metadata": {},
          "execution_count": 2
        }
      ]
    },
    {
      "cell_type": "code",
      "source": [
        "# Please use your own API key here.\n",
        "API_KEY = \"\""
      ],
      "metadata": {
        "id": "YA7QkrTgPBzq"
      },
      "execution_count": 3,
      "outputs": []
    },
    {
      "cell_type": "markdown",
      "source": [
        "##Use Case 1 (Implemented)\n",
        "\n",
        "\n",
        "\n",
        "* From a filled contract what could be the process to convert it as a template\n",
        "\n",
        "###Solution\n",
        "\n",
        "\n",
        "*   Step 1: Using function calling to get the function for \"convert_document_to_template()\"\n",
        "*   Step 2: call the function returned from function calling.\n",
        "*   Step 3: Read the pdf using PyPDF2 library.\n",
        "*   Step 4: Use Spacy and NLTK to filter out proper Noun Specifically names of Persons(e.g, Will Smith)\n",
        "*   Step 5: Replace Filtered names with placeholder '[Name]'.\n",
        "*   Step 6: Use pattern recognition (re -> regex), to filter out addresses of people and replace them with placeholder '[Address]'.\n",
        "*   Step 7: Use pattern recognition (re -> regex), to filter out dates and replace them with placeholder '[Dates]'.\n",
        "*   Step 8: display the document text converted to template.\n",
        "\n"
      ],
      "metadata": {
        "id": "_r-YIpKzKb1j"
      }
    },
    {
      "cell_type": "markdown",
      "source": [
        "###Fucntions for Document/Text Manipulation."
      ],
      "metadata": {
        "id": "y_S-fCxA-GKU"
      }
    },
    {
      "cell_type": "code",
      "source": [
        "# This function will read PDF file page by page and return the text.\n",
        "def read_pdf(file_address):\n",
        "  reader = PyPDF2.PdfReader(file_address)\n",
        "  for i in range(len(reader.pages)):\n",
        "    page = reader.pages[i]\n",
        "    text = page.extract_text()\n",
        "    return text\n",
        "\n",
        "# This function will filter proper nouns/ people names and replace them with placeholder.\n",
        "def replace_people_names_with_placeholders(text):\n",
        "  nlp = spacy.load(\"en_core_web_sm\")\n",
        "  doc = nlp(text)\n",
        "\n",
        "  names = [ent.text for ent in doc.ents if ent.label_ == \"PERSON\"]\n",
        "  filtered_names = []\n",
        "  name_replaced_text = \"\"\n",
        "  for name in names:\n",
        "    words = word_tokenize(name)\n",
        "    tagged_words = pos_tag(words)\n",
        "    if all(tag == 'NNP' for word, tag in tagged_words):\n",
        "      filtered_names.append(name)\n",
        "\n",
        "  filtered_names = list(set(filtered_names))\n",
        "  for filtered_name in filtered_names:\n",
        "    text = re.sub(filtered_name, '[Name]', text)\n",
        "\n",
        "  return text\n",
        "\n",
        "#This function will replace addresses with placeholder.\n",
        "def replace_address_with_placeholder(text):\n",
        "  address_pattern = r\"\\d+\\s+[a-zA-Z\\s]+,\\s*[a-zA-Z\\s]+,\\s*[a-zA-Z\\s]+\"\n",
        "  address_match = re.findall(address_pattern, text)\n",
        "  for address in address_match:\n",
        "    text = re.sub(address, '[address]', text)\n",
        "  return text\n",
        "\n",
        "# This function will replace dates with placeholders.\n",
        "def replace_dates_with_placeholder(text):\n",
        "  pattern = r'\\b\\d{2}-\\d{2}-\\d{4}\\b'\n",
        "  dates_matched = re.findall(pattern, text)\n",
        "  for date in dates_matched:\n",
        "    text = re.sub(date, '[date]', text)\n",
        "  return text"
      ],
      "metadata": {
        "id": "xx8-kFzTSryC"
      },
      "execution_count": 10,
      "outputs": []
    },
    {
      "cell_type": "markdown",
      "source": [
        "###Functions used by Function Calling."
      ],
      "metadata": {
        "id": "3xUdbnT1-i2O"
      }
    },
    {
      "cell_type": "code",
      "source": [
        "#This function will be called using the function Calling.\n",
        "def convert_document_to_template(str = None):\n",
        "  print('ChatGPT function Calling successfull.')\n",
        "  ## accessing document from google drive.\n",
        "  use_case_1_pdf = \"/content/drive/MyDrive/use_case_1.pdf\"\n",
        "  pdf_text = read_pdf(use_case_1_pdf)\n",
        "  temp_text = replace_people_names_with_placeholders(pdf_text)\n",
        "  temp_text = replace_address_with_placeholder(temp_text)\n",
        "  temp_text = replace_dates_with_placeholder(temp_text)\n",
        "  print(temp_text)\n",
        "\n",
        "#This function is used to test if function calling is working properly.\n",
        "def dummy_test_function():\n",
        "  print(\"Dummy function has been called.\")\n",
        "  return 'dummy function calling finished.'"
      ],
      "metadata": {
        "id": "06IR_qvhpNV_"
      },
      "execution_count": 5,
      "outputs": []
    },
    {
      "cell_type": "code",
      "source": [
        "#define model parameters and system prompt\n",
        "llm_model = \"gpt-3.5-turbo\"\n",
        "llm_system_prompt = \"You are an assistant that, helps me update different documents using function calling.\"\n",
        "openai.api_key = (API_KEY)"
      ],
      "metadata": {
        "id": "je5Q-ESZv50F"
      },
      "execution_count": 6,
      "outputs": []
    },
    {
      "cell_type": "markdown",
      "source": [
        "### Providing details of functions for function calling to Openai Api using, JSON."
      ],
      "metadata": {
        "id": "r6G7s-Zkv_XS"
      }
    },
    {
      "cell_type": "code",
      "source": [
        "# define the function with its parameters for calling\n",
        "signature_convert_document_to_template = {\n",
        "    \"name\": \"convert_document_to_template\",\n",
        "    \"description\": \"convert the given master document to template.\",\n",
        "    \"parameters\": {\n",
        "        \"type\": \"object\",\n",
        "        \"properties\": {\n",
        "        },\n",
        "        \"required\": [],\n",
        "    }\n",
        "}\n",
        "#Define dummy function for testing\n",
        "signature_dummy_test_function = {\n",
        "    \"name\": \"dummy_test_function\",\n",
        "    \"description\": \"to check if fucntion calling works given two fucntions,these are test string, convert, update, template, document.\",\n",
        "    \"parameters\": {\n",
        "        \"type\": \"object\",\n",
        "        \"properties\": {\n",
        "        },\n",
        "        \"required\": [],\n",
        "    }\n",
        "}"
      ],
      "metadata": {
        "id": "8UkwGVjAwaor"
      },
      "execution_count": 7,
      "outputs": []
    },
    {
      "cell_type": "markdown",
      "source": [
        "####This function will handle the API calling, and fucntion calling."
      ],
      "metadata": {
        "id": "P3KXGVxl_Qcy"
      }
    },
    {
      "cell_type": "code",
      "source": [
        "def function_calling_handler(messages, function_call: str = \"auto\"):\n",
        "    \"\"\"Fetch completion from OpenAI's GPT\"\"\"\n",
        "    print('Working...')\n",
        "    res = openai.ChatCompletion.create(\n",
        "        model=llm_model,\n",
        "        messages=messages,\n",
        "        functions=[signature_convert_document_to_template, signature_dummy_test_function],\n",
        "        function_call=function_call\n",
        "    )\n",
        "\n",
        "    response = res[\"choices\"][0][\"message\"]\n",
        "\n",
        "    # call functions requested by the model\n",
        "    if response.get(\"function_call\"):\n",
        "        function_name = response[\"function_call\"][\"name\"]\n",
        "        if function_name == \"convert_document_to_template\":\n",
        "            #args = json.loads(response[\"function_call\"][\"arguments\"])\n",
        "            headlines = convert_document_to_template()\n",
        "        if function_name == \"dummy_test_function\":\n",
        "            headlines = convert_document_to_template()\n",
        ""
      ],
      "metadata": {
        "id": "HNgLZk3FzBg_"
      },
      "execution_count": 8,
      "outputs": []
    },
    {
      "cell_type": "markdown",
      "source": [
        "#####Sending query to the API and displaying the text converted to template."
      ],
      "metadata": {
        "id": "Xn0BlF2H_d-1"
      }
    },
    {
      "cell_type": "code",
      "source": [
        "messages = []\n",
        "messages.append({\"role\": \"system\", \"content\": llm_system_prompt})\n",
        "messages.append({\"role\": \"user\", \"content\": 'convert my master document to template.'})\n",
        "function_calling_handler(messages)"
      ],
      "metadata": {
        "colab": {
          "base_uri": "https://localhost:8080/"
        },
        "id": "2nv80MLA1d5d",
        "outputId": "85c3d4fe-0b46-4169-ccb5-19d22585e27e"
      },
      "execution_count": 11,
      "outputs": [
        {
          "output_type": "stream",
          "name": "stdout",
          "text": [
            "Working...\n",
            "ChatGPT function Calling successfull.\n",
            " \n",
            "This Agreement is made and entered into as of [date] , by and between:  \n",
            "[Name] , residing at  [address], here  in after referred to as Party A,  \n",
            "and [Name] , residing at  [address], here  in after referred to as Party \n",
            "B. \n",
            "Whereas , Party A and Party B desire to agree  to define the terms and conditions of their \n",
            "relationship . \n",
            "Now, Therefore,  in consideration of the mutual promises, covenants, and agreements \n",
            "contained herein, and for other good and valuable consi deration, the receipt and sufficiency \n",
            "of which are hereby acknowledged, the parties hereto agree as follows:  \n",
            "Purpose of Agreement: The purpose of this Agreement is to define the terms and conditions \n",
            "of the relationship between Party A and Party B.  \n",
            "Scope of  Services: Party A agrees to provide services to Party B, and Party B agrees to \n",
            "compensate Party A for these services as per the terms outlined in this Agreement.  \n",
            "Term: This Agreement shall commence on [date]  and shall continue until  [date]  \n",
            "unless terminated earlier by mutual agreement of the parties or as otherwise provided here  in. \n",
            "Compensation: Party B agrees to compensate Party A for the services provided at the rate of \n",
            "50,000 dollars  per month, payable every month.  \n",
            "Confidentiality: Both parties  agree to keep confidential any proprietary or sensitive information \n",
            "disclosed during this Agreement.  \n",
            "Termination: Either party may terminate this Agreement wit h written notice to the other party. \n",
            "Upon termination, Party B shall pay Party A for all service s rendered up to the date of \n",
            "termination . \n",
            "Signature of Party A: [Name]  \n",
            "Signature of Party B: [Name]  \n",
            " \n",
            " \n"
          ]
        }
      ]
    },
    {
      "cell_type": "markdown",
      "source": [
        "##Use Case 2 (Proposed Solutions)\n",
        "\n",
        "\n",
        "*    What could be the process to update the master document from a user query such as : \"Add an article between 6 and 7 about privacy law\"\n",
        "\n",
        "### Solution 1 (Using PyPDF2 library)\n",
        "\n",
        "*   Step 1: Using function calling to get the function for \"add_to_document_and_update()\".\n",
        "*   Step 2: call the function returned from function calling.\n",
        "*   Step 3: Read both pdfs using PyPDF2 library.\n",
        "*   Step 4: Iterate through the pages of the PDF document using the '.pages[page_number]' method.\n",
        "*   Step 5: Use the `reportlab` library to generate a 'Canvas' object for each page.\n",
        "*   Step 6: find coordinates for Article 6 and 7 on the canvas.\n",
        "*   Step 7: convert Article that will go between 6 and 7 to canvas.\n",
        "*   Step 8: Add text between those coordinates at the canvas.\n",
        "*   Step 9: Merge the changes using 'add_page()' method of the 'PdfWriter'. object.\n",
        "*   Step 10: use regex to find pattern of numbers for headings and bullet points.\n",
        "*   Step 11: Rearrange and sort bullet points and heading numbers accordingly.\n",
        "\n",
        "### Solution 2 (Using OCR(Optical Character Recognition))\n",
        "*   Step 1: Read both pdfs using library such as tessarect and convert them to images for processing.\n",
        "*   Step 2: Get coordinates of Article 6's start and end points.\n",
        "*   Step 3: Get coordinates of Article 7's start.\n",
        "*   Step 4: Add new Article at the End of Atricale 6 and the start of Article 7, and update all the coordinates accordingly.\n",
        "*   Step 5: take all the data from the start of Article 6 to the end of Article 7 and rearrange any heading and bullet point numbers accordingly.\n",
        "*   Step 6: convert image back into accessable pdf after Adding the Article.\n",
        "*   Step 7: Return the updated pdf.\n",
        "\n",
        "### Solution 3 (Using Json)\n",
        "*   Step 1: Read the pdfs.\n",
        "*   Step 2: convert them both to pdf.\n",
        "*   Step 3: Find the article 6 and 7.\n",
        "*   Step 4: add the new Article between the article 6 and 7.\n",
        "*   Step 5: Rearragne heading and bullet point numbers by asscessing keys for content.\n",
        "*   Step 6: convert finished json back to pdf.\n",
        "*   Step 7: Return the updated pdf."
      ],
      "metadata": {
        "id": "B5PVwq4Actr6"
      }
    },
    {
      "cell_type": "markdown",
      "source": [
        "## Conclusion\n",
        "\n",
        "I have tried to implement these use cases on the server side without exposing personal information to Chatgpt due to concerns for data privacy laws, even though use case 1 can be solved at least partially by parsing the master document to Chatgpt. This is why chatgpt will only return a function that needs to be called, but no parameters. However, parameters can be provided in the prompt and function calling will return the appropriate parameters.\n",
        "\n",
        "For use case 1, solution is not complete, as it will only work for one type of date, or address format, and will not filter names that have middle names. A detailed pattern recognition system/class will need to be implemented to identify all different date, address, names of people, places, countries, phone numbers or other related patterns, so that a document can be accurately turned into a template.\n",
        "\n",
        "For use case 2, I have provided three possible solutions, one or all three can be implemented depending upon the situation, for example, if the master document was scanned using an image scanner, then we can implement solution 2.\n",
        "\n",
        "\n",
        "## Suggentions\n",
        "\n",
        "These function calls, and other api callings can be used to gather data, which can help to recognise different KPI's, monitor performance and determine costs\n",
        "which can help with pricing.\n",
        "\n",
        "To gather and utilize the data effectively, A new database schema can be created to store data used purely for data analysis."
      ],
      "metadata": {
        "id": "2pJtZFhbQDFa"
      }
    }
  ]
}